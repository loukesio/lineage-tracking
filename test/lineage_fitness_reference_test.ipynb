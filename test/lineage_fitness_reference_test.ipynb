{
 "cells": [
  {
   "cell_type": "code",
   "execution_count": 3,
   "metadata": {
    "collapsed": true
   },
   "outputs": [],
   "source": [
    "import pandas, numpy\n",
    "\n",
    "\n",
    "\n"
   ]
  },
  {
   "cell_type": "code",
   "execution_count": 16,
   "outputs": [],
   "source": [
    "ref_data = pandas.read_csv(\"/home/grotec/Repositories/lineage-tracking/reference_data/relative_fitnesses/C1-BC1_evolution_fitnesses.csv\",\n",
    "                           sep='\\t',skiprows=1,header=None)\n",
    "tst_data = pandas.read_csv(\"/home/grotec/Repositories/lineage-tracking/data/relative_fitnesses/C1-BC1_evolution_fitnesses.csv\",\n",
    "                           sep='\\t',skiprows=1,header=None)"
   ],
   "metadata": {
    "collapsed": false,
    "pycharm": {
     "name": "#%%\n"
    }
   }
  },
  {
   "cell_type": "code",
   "execution_count": 17,
   "outputs": [],
   "source": [
    "ref_data.index = ref_data[0]\n",
    "del ref_data[0]"
   ],
   "metadata": {
    "collapsed": false,
    "pycharm": {
     "name": "#%%\n"
    }
   }
  },
  {
   "cell_type": "code",
   "execution_count": 18,
   "outputs": [],
   "source": [
    "tst_data.index = tst_data[0]\n",
    "del tst_data[0]"
   ],
   "metadata": {
    "collapsed": false,
    "pycharm": {
     "name": "#%%\n"
    }
   }
  },
  {
   "cell_type": "code",
   "execution_count": 19,
   "outputs": [],
   "source": [
    "ref_data.sort_index(inplace=True)\n",
    "tst_data.sort_index(inplace=True)"
   ],
   "metadata": {
    "collapsed": false,
    "pycharm": {
     "name": "#%%\n"
    }
   }
  },
  {
   "cell_type": "code",
   "execution_count": 20,
   "outputs": [
    {
     "data": {
      "text/plain": "                   1    2    3    4    5    6         7         8         9   \\\n0                                                                              \nAATAGTTCTGGGGACC  0.0  0.0  0.0  0.0  0.0  0.0  0.012241  0.006065  0.018416   \nACGCCACGCGTCTCAG  0.0  0.0  0.0  0.0  0.0  0.0  0.000000  0.000000  0.000000   \nACTCGATCTCGCCGCC  0.0  0.0  0.0  0.0  0.0  0.0  0.000000  0.000000  0.000000   \nACTGTACCTGCGGGTT  0.0  0.0  0.0  0.0  0.0  0.0  0.013537  0.009417  0.017656   \nAGACCTATATCGCAAT  0.0  0.0  0.0  0.0  0.0  0.0  0.000000  0.000000  0.000000   \n\n                        10  ...        21        22        23        24  \\\n0                           ...                                           \nAATAGTTCTGGGGACC  0.000000  ...  0.001685  0.000000  0.000000  0.000000   \nACGCCACGCGTCTCAG  0.011374  ... -0.002888 -0.009704 -0.017871 -0.001537   \nACTCGATCTCGCCGCC  0.009352  ... -0.000525 -0.012093 -0.019742 -0.004444   \nACTGTACCTGCGGGTT  0.009130  ...  0.000000  0.000000  0.000000  0.000000   \nAGACCTATATCGCAAT  0.008181  ...  0.000000  0.000000  0.000000  0.000000   \n\n                        25        26        27   28   29   30  \n0                                                              \nAATAGTTCTGGGGACC  0.000000  0.000000  0.000000  0.0  0.0  0.0  \nACGCCACGCGTCTCAG  0.000000  0.000000  0.000000  0.0  0.0  0.0  \nACTCGATCTCGCCGCC -0.010977 -0.023299  0.001345  0.0  0.0  0.0  \nACTGTACCTGCGGGTT  0.000000  0.000000  0.000000  0.0  0.0  0.0  \nAGACCTATATCGCAAT  0.000000  0.000000  0.000000  0.0  0.0  0.0  \n\n[5 rows x 30 columns]",
      "text/html": "<div>\n<style scoped>\n    .dataframe tbody tr th:only-of-type {\n        vertical-align: middle;\n    }\n\n    .dataframe tbody tr th {\n        vertical-align: top;\n    }\n\n    .dataframe thead th {\n        text-align: right;\n    }\n</style>\n<table border=\"1\" class=\"dataframe\">\n  <thead>\n    <tr style=\"text-align: right;\">\n      <th></th>\n      <th>1</th>\n      <th>2</th>\n      <th>3</th>\n      <th>4</th>\n      <th>5</th>\n      <th>6</th>\n      <th>7</th>\n      <th>8</th>\n      <th>9</th>\n      <th>10</th>\n      <th>...</th>\n      <th>21</th>\n      <th>22</th>\n      <th>23</th>\n      <th>24</th>\n      <th>25</th>\n      <th>26</th>\n      <th>27</th>\n      <th>28</th>\n      <th>29</th>\n      <th>30</th>\n    </tr>\n    <tr>\n      <th>0</th>\n      <th></th>\n      <th></th>\n      <th></th>\n      <th></th>\n      <th></th>\n      <th></th>\n      <th></th>\n      <th></th>\n      <th></th>\n      <th></th>\n      <th></th>\n      <th></th>\n      <th></th>\n      <th></th>\n      <th></th>\n      <th></th>\n      <th></th>\n      <th></th>\n      <th></th>\n      <th></th>\n      <th></th>\n    </tr>\n  </thead>\n  <tbody>\n    <tr>\n      <th>AATAGTTCTGGGGACC</th>\n      <td>0.0</td>\n      <td>0.0</td>\n      <td>0.0</td>\n      <td>0.0</td>\n      <td>0.0</td>\n      <td>0.0</td>\n      <td>0.012241</td>\n      <td>0.006065</td>\n      <td>0.018416</td>\n      <td>0.000000</td>\n      <td>...</td>\n      <td>0.001685</td>\n      <td>0.000000</td>\n      <td>0.000000</td>\n      <td>0.000000</td>\n      <td>0.000000</td>\n      <td>0.000000</td>\n      <td>0.000000</td>\n      <td>0.0</td>\n      <td>0.0</td>\n      <td>0.0</td>\n    </tr>\n    <tr>\n      <th>ACGCCACGCGTCTCAG</th>\n      <td>0.0</td>\n      <td>0.0</td>\n      <td>0.0</td>\n      <td>0.0</td>\n      <td>0.0</td>\n      <td>0.0</td>\n      <td>0.000000</td>\n      <td>0.000000</td>\n      <td>0.000000</td>\n      <td>0.011374</td>\n      <td>...</td>\n      <td>-0.002888</td>\n      <td>-0.009704</td>\n      <td>-0.017871</td>\n      <td>-0.001537</td>\n      <td>0.000000</td>\n      <td>0.000000</td>\n      <td>0.000000</td>\n      <td>0.0</td>\n      <td>0.0</td>\n      <td>0.0</td>\n    </tr>\n    <tr>\n      <th>ACTCGATCTCGCCGCC</th>\n      <td>0.0</td>\n      <td>0.0</td>\n      <td>0.0</td>\n      <td>0.0</td>\n      <td>0.0</td>\n      <td>0.0</td>\n      <td>0.000000</td>\n      <td>0.000000</td>\n      <td>0.000000</td>\n      <td>0.009352</td>\n      <td>...</td>\n      <td>-0.000525</td>\n      <td>-0.012093</td>\n      <td>-0.019742</td>\n      <td>-0.004444</td>\n      <td>-0.010977</td>\n      <td>-0.023299</td>\n      <td>0.001345</td>\n      <td>0.0</td>\n      <td>0.0</td>\n      <td>0.0</td>\n    </tr>\n    <tr>\n      <th>ACTGTACCTGCGGGTT</th>\n      <td>0.0</td>\n      <td>0.0</td>\n      <td>0.0</td>\n      <td>0.0</td>\n      <td>0.0</td>\n      <td>0.0</td>\n      <td>0.013537</td>\n      <td>0.009417</td>\n      <td>0.017656</td>\n      <td>0.009130</td>\n      <td>...</td>\n      <td>0.000000</td>\n      <td>0.000000</td>\n      <td>0.000000</td>\n      <td>0.000000</td>\n      <td>0.000000</td>\n      <td>0.000000</td>\n      <td>0.000000</td>\n      <td>0.0</td>\n      <td>0.0</td>\n      <td>0.0</td>\n    </tr>\n    <tr>\n      <th>AGACCTATATCGCAAT</th>\n      <td>0.0</td>\n      <td>0.0</td>\n      <td>0.0</td>\n      <td>0.0</td>\n      <td>0.0</td>\n      <td>0.0</td>\n      <td>0.000000</td>\n      <td>0.000000</td>\n      <td>0.000000</td>\n      <td>0.008181</td>\n      <td>...</td>\n      <td>0.000000</td>\n      <td>0.000000</td>\n      <td>0.000000</td>\n      <td>0.000000</td>\n      <td>0.000000</td>\n      <td>0.000000</td>\n      <td>0.000000</td>\n      <td>0.0</td>\n      <td>0.0</td>\n      <td>0.0</td>\n    </tr>\n  </tbody>\n</table>\n<p>5 rows × 30 columns</p>\n</div>"
     },
     "execution_count": 20,
     "metadata": {},
     "output_type": "execute_result"
    }
   ],
   "source": [
    "ref_data.head()"
   ],
   "metadata": {
    "collapsed": false,
    "pycharm": {
     "name": "#%%\n"
    }
   }
  },
  {
   "cell_type": "code",
   "execution_count": 21,
   "outputs": [
    {
     "data": {
      "text/plain": "                   1    2    3    4    5    6         7         8         9   \\\n0                                                                              \nAATAGTTCTGGGGACC  0.0  0.0  0.0  0.0  0.0  0.0  0.012241  0.006065  0.018416   \nACGCCACGCGTCTCAG  0.0  0.0  0.0  0.0  0.0  0.0  0.000000  0.000000  0.000000   \nACTCGATCTCGCCGCC  0.0  0.0  0.0  0.0  0.0  0.0  0.000000  0.000000  0.000000   \nACTGTACCTGCGGGTT  0.0  0.0  0.0  0.0  0.0  0.0  0.013537  0.009417  0.017656   \nAGACCTATATCGCAAT  0.0  0.0  0.0  0.0  0.0  0.0  0.000000  0.000000  0.000000   \n\n                        10  ...        21        22        23        24  \\\n0                           ...                                           \nAATAGTTCTGGGGACC  0.000000  ...  0.001685  0.000000  0.000000  0.000000   \nACGCCACGCGTCTCAG  0.011374  ... -0.002888 -0.009704 -0.017871 -0.001537   \nACTCGATCTCGCCGCC  0.009352  ... -0.000525 -0.012093 -0.019742 -0.004444   \nACTGTACCTGCGGGTT  0.009130  ...  0.000000  0.000000  0.000000  0.000000   \nAGACCTATATCGCAAT  0.008181  ...  0.000000  0.000000  0.000000  0.000000   \n\n                        25        26        27   28   29   30  \n0                                                              \nAATAGTTCTGGGGACC  0.000000  0.000000  0.000000  0.0  0.0  0.0  \nACGCCACGCGTCTCAG  0.000000  0.000000  0.000000  0.0  0.0  0.0  \nACTCGATCTCGCCGCC -0.010977 -0.023299  0.001345  0.0  0.0  0.0  \nACTGTACCTGCGGGTT  0.000000  0.000000  0.000000  0.0  0.0  0.0  \nAGACCTATATCGCAAT  0.000000  0.000000  0.000000  0.0  0.0  0.0  \n\n[5 rows x 30 columns]",
      "text/html": "<div>\n<style scoped>\n    .dataframe tbody tr th:only-of-type {\n        vertical-align: middle;\n    }\n\n    .dataframe tbody tr th {\n        vertical-align: top;\n    }\n\n    .dataframe thead th {\n        text-align: right;\n    }\n</style>\n<table border=\"1\" class=\"dataframe\">\n  <thead>\n    <tr style=\"text-align: right;\">\n      <th></th>\n      <th>1</th>\n      <th>2</th>\n      <th>3</th>\n      <th>4</th>\n      <th>5</th>\n      <th>6</th>\n      <th>7</th>\n      <th>8</th>\n      <th>9</th>\n      <th>10</th>\n      <th>...</th>\n      <th>21</th>\n      <th>22</th>\n      <th>23</th>\n      <th>24</th>\n      <th>25</th>\n      <th>26</th>\n      <th>27</th>\n      <th>28</th>\n      <th>29</th>\n      <th>30</th>\n    </tr>\n    <tr>\n      <th>0</th>\n      <th></th>\n      <th></th>\n      <th></th>\n      <th></th>\n      <th></th>\n      <th></th>\n      <th></th>\n      <th></th>\n      <th></th>\n      <th></th>\n      <th></th>\n      <th></th>\n      <th></th>\n      <th></th>\n      <th></th>\n      <th></th>\n      <th></th>\n      <th></th>\n      <th></th>\n      <th></th>\n      <th></th>\n    </tr>\n  </thead>\n  <tbody>\n    <tr>\n      <th>AATAGTTCTGGGGACC</th>\n      <td>0.0</td>\n      <td>0.0</td>\n      <td>0.0</td>\n      <td>0.0</td>\n      <td>0.0</td>\n      <td>0.0</td>\n      <td>0.012241</td>\n      <td>0.006065</td>\n      <td>0.018416</td>\n      <td>0.000000</td>\n      <td>...</td>\n      <td>0.001685</td>\n      <td>0.000000</td>\n      <td>0.000000</td>\n      <td>0.000000</td>\n      <td>0.000000</td>\n      <td>0.000000</td>\n      <td>0.000000</td>\n      <td>0.0</td>\n      <td>0.0</td>\n      <td>0.0</td>\n    </tr>\n    <tr>\n      <th>ACGCCACGCGTCTCAG</th>\n      <td>0.0</td>\n      <td>0.0</td>\n      <td>0.0</td>\n      <td>0.0</td>\n      <td>0.0</td>\n      <td>0.0</td>\n      <td>0.000000</td>\n      <td>0.000000</td>\n      <td>0.000000</td>\n      <td>0.011374</td>\n      <td>...</td>\n      <td>-0.002888</td>\n      <td>-0.009704</td>\n      <td>-0.017871</td>\n      <td>-0.001537</td>\n      <td>0.000000</td>\n      <td>0.000000</td>\n      <td>0.000000</td>\n      <td>0.0</td>\n      <td>0.0</td>\n      <td>0.0</td>\n    </tr>\n    <tr>\n      <th>ACTCGATCTCGCCGCC</th>\n      <td>0.0</td>\n      <td>0.0</td>\n      <td>0.0</td>\n      <td>0.0</td>\n      <td>0.0</td>\n      <td>0.0</td>\n      <td>0.000000</td>\n      <td>0.000000</td>\n      <td>0.000000</td>\n      <td>0.009352</td>\n      <td>...</td>\n      <td>-0.000525</td>\n      <td>-0.012093</td>\n      <td>-0.019742</td>\n      <td>-0.004444</td>\n      <td>-0.010977</td>\n      <td>-0.023299</td>\n      <td>0.001345</td>\n      <td>0.0</td>\n      <td>0.0</td>\n      <td>0.0</td>\n    </tr>\n    <tr>\n      <th>ACTGTACCTGCGGGTT</th>\n      <td>0.0</td>\n      <td>0.0</td>\n      <td>0.0</td>\n      <td>0.0</td>\n      <td>0.0</td>\n      <td>0.0</td>\n      <td>0.013537</td>\n      <td>0.009417</td>\n      <td>0.017656</td>\n      <td>0.009130</td>\n      <td>...</td>\n      <td>0.000000</td>\n      <td>0.000000</td>\n      <td>0.000000</td>\n      <td>0.000000</td>\n      <td>0.000000</td>\n      <td>0.000000</td>\n      <td>0.000000</td>\n      <td>0.0</td>\n      <td>0.0</td>\n      <td>0.0</td>\n    </tr>\n    <tr>\n      <th>AGACCTATATCGCAAT</th>\n      <td>0.0</td>\n      <td>0.0</td>\n      <td>0.0</td>\n      <td>0.0</td>\n      <td>0.0</td>\n      <td>0.0</td>\n      <td>0.000000</td>\n      <td>0.000000</td>\n      <td>0.000000</td>\n      <td>0.008181</td>\n      <td>...</td>\n      <td>0.000000</td>\n      <td>0.000000</td>\n      <td>0.000000</td>\n      <td>0.000000</td>\n      <td>0.000000</td>\n      <td>0.000000</td>\n      <td>0.000000</td>\n      <td>0.0</td>\n      <td>0.0</td>\n      <td>0.0</td>\n    </tr>\n  </tbody>\n</table>\n<p>5 rows × 30 columns</p>\n</div>"
     },
     "execution_count": 21,
     "metadata": {},
     "output_type": "execute_result"
    }
   ],
   "source": [
    "tst_data.head()"
   ],
   "metadata": {
    "collapsed": false,
    "pycharm": {
     "name": "#%%\n"
    }
   }
  },
  {
   "cell_type": "code",
   "execution_count": 22,
   "outputs": [
    {
     "data": {
      "text/plain": "True"
     },
     "execution_count": 22,
     "metadata": {},
     "output_type": "execute_result"
    }
   ],
   "source": [
    "all([r == t for r,t in zip(ref_data.index, tst_data.index)])\n"
   ],
   "metadata": {
    "collapsed": false,
    "pycharm": {
     "name": "#%%\n"
    }
   }
  },
  {
   "cell_type": "code",
   "execution_count": null,
   "outputs": [],
   "source": [],
   "metadata": {
    "collapsed": false,
    "pycharm": {
     "name": "#%%\n"
    }
   }
  }
 ],
 "metadata": {
  "kernelspec": {
   "name": "pycharm-a16b6f8c",
   "language": "python",
   "display_name": "PyCharm (lineage-tracking)"
  },
  "language_info": {
   "codemirror_mode": {
    "name": "ipython",
    "version": 2
   },
   "file_extension": ".py",
   "mimetype": "text/x-python",
   "name": "python",
   "nbconvert_exporter": "python",
   "pygments_lexer": "ipython2",
   "version": "2.7.6"
  }
 },
 "nbformat": 4,
 "nbformat_minor": 0
}